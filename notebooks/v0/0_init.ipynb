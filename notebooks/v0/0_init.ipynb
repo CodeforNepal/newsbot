{
 "cells": [
  {
   "cell_type": "markdown",
   "metadata": {},
   "source": [
    "# First version"
   ]
  },
  {
   "cell_type": "code",
   "execution_count": 4,
   "metadata": {},
   "outputs": [],
   "source": [
    "from transformers import AutoModelForCausalLM, AutoTokenizer\n",
    "import torch"
   ]
  },
  {
   "cell_type": "code",
   "execution_count": 5,
   "metadata": {},
   "outputs": [],
   "source": [
    "def scrape_latest_news():\n",
    "    # This function returns dummy news articles with detailed descriptions\n",
    "    articles = [\n",
    "        {\n",
    "            \"title\": \"AI Breakthrough in Cancer Detection\",\n",
    "            \"description\": \"Scientists at Global Health Institute have developed a revolutionary AI system capable of detecting early signs of cancer with an accuracy of 98%. This advancement is expected to transform the medical industry by drastically reducing diagnostic errors and enabling earlier treatment interventions, potentially saving millions of lives annually.\",\n",
    "            \"url\": \"https://www.example.com/ai-cancer-detection\",\n",
    "            \"source\": \"Health Today\",\n",
    "            \"published_at\": \"2024-10-12T10:00:00Z\"\n",
    "        },\n",
    "        {\n",
    "            \"title\": \"Global Climate Summit Urges Immediate Action\",\n",
    "            \"description\": \"World leaders gathered at the 2024 Global Climate Summit to address the urgent need for sustainable energy solutions. With record-breaking heatwaves and natural disasters increasing worldwide, experts are calling for accelerated investments in renewable energy and stricter carbon emission regulations to mitigate the impact of climate change.\",\n",
    "            \"url\": \"https://www.example.com/global-climate-summit\",\n",
    "            \"source\": \"Eco News\",\n",
    "            \"published_at\": \"2024-10-11T14:45:00Z\"\n",
    "        },\n",
    "        {\n",
    "            \"title\": \"Nepal Celebrates Vijaya Dashami Amidst Challenges\",\n",
    "            \"description\": \"Prime Minister K P Sharma Oli and President Ram Chandra Paudel extend greetings to citizens during Vijaya Dashami, urging support for those impacted by recent floods and landslides. The festival's religious importance is being celebrated in parallel with ongoing recovery efforts in affected areas.\",\n",
    "            \"url\": \"https://www.example.com/nepal-dashami-celebration\",\n",
    "            \"source\": \"Devdiscourse\",\n",
    "            \"published_at\": \"2024-10-12T15:56:00Z\"\n",
    "        },\n",
    "        {\n",
    "            \"title\": \"Floods and Landslides Devastate Nepal\",\n",
    "            \"description\": \"Recent natural disasters in Nepal have caused 240 fatalities and displaced thousands, severely impacting infrastructure and disrupting travel during the Dashain festival. The government has allocated emergency funds for relief efforts, but the recovery process is expected to take months.\",\n",
    "            \"url\": \"https://www.example.com/nepal-floods-landslides\",\n",
    "            \"source\": \"Devdiscourse\",\n",
    "            \"published_at\": \"2024-10-12T14:30:00Z\"\n",
    "        },\n",
    "        {\n",
    "            \"title\": \"Global Tech Companies Eye Expansion in Africa\",\n",
    "            \"description\": \"Tech giants such as Google and Microsoft have announced plans to expand their presence in Africa, aiming to tap into the continent's rapidly growing digital economy. By investing in infrastructure, training, and local talent, these companies hope to establish Africa as a major hub for technology innovation in the coming years.\",\n",
    "            \"url\": \"https://www.example.com/tech-expansion-africa\",\n",
    "            \"source\": \"Tech World\",\n",
    "            \"published_at\": \"2024-10-10T09:00:00Z\"\n",
    "        },\n",
    "        {\n",
    "            \"title\": \"SpaceX Successfully Launches First All-Civilian Mission to Mars\",\n",
    "            \"description\": \"In a historic achievement, SpaceX launched its first all-civilian crewed mission to Mars. The crew, composed of scientists and engineers, will conduct groundbreaking research on the Martian surface. This mission marks a significant step toward SpaceX's goal of establishing a permanent human colony on Mars within the next decade.\",\n",
    "            \"url\": \"https://www.example.com/spacex-mars-mission\",\n",
    "            \"source\": \"Space News\",\n",
    "            \"published_at\": \"2024-10-09T18:30:00Z\"\n",
    "        },\n",
    "        {\n",
    "            \"title\": \"ç\",\n",
    "            \"description\": \"A team of researchers from MIT has developed a new battery technology capable of storing renewable energy for up to 10 times longer than current solutions. This breakthrough could solve one of the major challenges facing the adoption of solar and wind energy by providing reliable storage during periods of low production.\",\n",
    "            \"url\": \"https://www.example.com/renewable-energy-storage\",\n",
    "            \"source\": \"Science Daily\",\n",
    "            \"published_at\": \"2024-10-11T11:20:00Z\"\n",
    "        },\n",
    "        {\n",
    "            \"title\": \"Global Food Prices Surge Amidst Supply Chain Disruptions\",\n",
    "            \"description\": \"The global food supply chain continues to face unprecedented disruptions due to ongoing geopolitical conflicts and climate-related disasters. As a result, food prices have surged by 15% in the last quarter alone, placing significant strain on low-income populations and leading to increased calls for food security reforms.\",\n",
    "            \"url\": \"https://www.example.com/global-food-price-surge\",\n",
    "            \"source\": \"Financial Times\",\n",
    "            \"published_at\": \"2024-10-08T08:10:00Z\"\n",
    "        },\n",
    "        {\n",
    "            \"title\": \"Advancements in Quantum Computing Pave the Way for Breakthroughs in Medicine\",\n",
    "            \"description\": \"Quantum computing is set to revolutionize medical research, with new algorithms that can model complex molecular structures at an unprecedented scale. These advancements are expected to accelerate drug discovery processes and provide new insights into genetic diseases, opening the door for personalized medicine breakthroughs.\",\n",
    "            \"url\": \"https://www.example.com/quantum-computing-medicine\",\n",
    "            \"source\": \"Tech Insights\",\n",
    "            \"published_at\": \"2024-10-07T12:00:00Z\"\n",
    "        },\n",
    "        {\n",
    "            \"title\": \"World Cup 2024: The Rise of Underdogs\",\n",
    "            \"description\": \"The 2024 FIFA World Cup has seen unexpected victories from teams considered underdogs, sparking excitement among fans worldwide. With several top-ranked teams eliminated early, the tournament has become one of the most unpredictable and thrilling in recent memory, capturing the spirit of competition on the global stage.\",\n",
    "            \"url\": \"https://www.example.com/world-cup-2024-underdogs\",\n",
    "            \"source\": \"Sports Daily\",\n",
    "            \"published_at\": \"2024-10-12T17:45:00Z\"\n",
    "        }\n",
    "    ]\n",
    "    return articles"
   ]
  },
  {
   "cell_type": "code",
   "execution_count": 6,
   "metadata": {},
   "outputs": [
    {
     "name": "stderr",
     "output_type": "stream",
     "text": [
      "Some weights of the model checkpoint at EleutherAI/gpt-j-6B were not used when initializing GPTJForCausalLM: ['transformer.h.0.attn.bias', 'transformer.h.0.attn.masked_bias', 'transformer.h.1.attn.bias', 'transformer.h.1.attn.masked_bias', 'transformer.h.10.attn.bias', 'transformer.h.10.attn.masked_bias', 'transformer.h.11.attn.bias', 'transformer.h.11.attn.masked_bias', 'transformer.h.12.attn.bias', 'transformer.h.12.attn.masked_bias', 'transformer.h.13.attn.bias', 'transformer.h.13.attn.masked_bias', 'transformer.h.14.attn.bias', 'transformer.h.14.attn.masked_bias', 'transformer.h.15.attn.bias', 'transformer.h.15.attn.masked_bias', 'transformer.h.16.attn.bias', 'transformer.h.16.attn.masked_bias', 'transformer.h.17.attn.bias', 'transformer.h.17.attn.masked_bias', 'transformer.h.18.attn.bias', 'transformer.h.18.attn.masked_bias', 'transformer.h.19.attn.bias', 'transformer.h.19.attn.masked_bias', 'transformer.h.2.attn.bias', 'transformer.h.2.attn.masked_bias', 'transformer.h.20.attn.bias', 'transformer.h.20.attn.masked_bias', 'transformer.h.21.attn.bias', 'transformer.h.21.attn.masked_bias', 'transformer.h.22.attn.bias', 'transformer.h.22.attn.masked_bias', 'transformer.h.23.attn.bias', 'transformer.h.23.attn.masked_bias', 'transformer.h.24.attn.bias', 'transformer.h.24.attn.masked_bias', 'transformer.h.25.attn.bias', 'transformer.h.25.attn.masked_bias', 'transformer.h.26.attn.bias', 'transformer.h.26.attn.masked_bias', 'transformer.h.27.attn.bias', 'transformer.h.27.attn.masked_bias', 'transformer.h.3.attn.bias', 'transformer.h.3.attn.masked_bias', 'transformer.h.4.attn.bias', 'transformer.h.4.attn.masked_bias', 'transformer.h.5.attn.bias', 'transformer.h.5.attn.masked_bias', 'transformer.h.6.attn.bias', 'transformer.h.6.attn.masked_bias', 'transformer.h.7.attn.bias', 'transformer.h.7.attn.masked_bias', 'transformer.h.8.attn.bias', 'transformer.h.8.attn.masked_bias', 'transformer.h.9.attn.bias', 'transformer.h.9.attn.masked_bias']\n",
      "- This IS expected if you are initializing GPTJForCausalLM from the checkpoint of a model trained on another task or with another architecture (e.g. initializing a BertForSequenceClassification model from a BertForPreTraining model).\n",
      "- This IS NOT expected if you are initializing GPTJForCausalLM from the checkpoint of a model that you expect to be exactly identical (initializing a BertForSequenceClassification model from a BertForSequenceClassification model).\n"
     ]
    },
    {
     "data": {
      "text/plain": [
       "GPTJForCausalLM(\n",
       "  (transformer): GPTJModel(\n",
       "    (wte): Embedding(50400, 4096)\n",
       "    (drop): Dropout(p=0.0, inplace=False)\n",
       "    (h): ModuleList(\n",
       "      (0-27): 28 x GPTJBlock(\n",
       "        (ln_1): LayerNorm((4096,), eps=1e-05, elementwise_affine=True)\n",
       "        (attn): GPTJAttention(\n",
       "          (attn_dropout): Dropout(p=0.0, inplace=False)\n",
       "          (resid_dropout): Dropout(p=0.0, inplace=False)\n",
       "          (k_proj): Linear(in_features=4096, out_features=4096, bias=False)\n",
       "          (v_proj): Linear(in_features=4096, out_features=4096, bias=False)\n",
       "          (q_proj): Linear(in_features=4096, out_features=4096, bias=False)\n",
       "          (out_proj): Linear(in_features=4096, out_features=4096, bias=False)\n",
       "        )\n",
       "        (mlp): GPTJMLP(\n",
       "          (fc_in): Linear(in_features=4096, out_features=16384, bias=True)\n",
       "          (fc_out): Linear(in_features=16384, out_features=4096, bias=True)\n",
       "          (act): NewGELUActivation()\n",
       "          (dropout): Dropout(p=0.0, inplace=False)\n",
       "        )\n",
       "      )\n",
       "    )\n",
       "    (ln_f): LayerNorm((4096,), eps=1e-05, elementwise_affine=True)\n",
       "  )\n",
       "  (lm_head): Linear(in_features=4096, out_features=50400, bias=True)\n",
       ")"
      ]
     },
     "execution_count": 6,
     "metadata": {},
     "output_type": "execute_result"
    }
   ],
   "source": [
    "# Load the smaller pre-trained model and tokenizer from Hugging Face\n",
    "model_name = \"EleutherAI/gpt-j-6B\" \n",
    "tokenizer = AutoTokenizer.from_pretrained(model_name)\n",
    "model = AutoModelForCausalLM.from_pretrained(model_name)\n",
    "\n",
    "# Set device to GPU if available, else use CPU\n",
    "device = torch.device(\"cuda\" if torch.cuda.is_available() else \"cpu\")\n",
    "model.to(device)"
   ]
  },
  {
   "cell_type": "code",
   "execution_count": 7,
   "metadata": {},
   "outputs": [],
   "source": [
    "# Function to generate a chatbot response using the LLM with news context\n",
    "def generate_response(input_text):\n",
    "    try:\n",
    "        # Get the latest news articles\n",
    "        news_articles = scrape_latest_news()\n",
    "        \n",
    "        # Create a context string from the latest news\n",
    "        news_context = \"\\n\".join(\n",
    "            f\"Title: {article['title']}\\nDescription: {article['description']}\\nURL: {article['url']}\" \n",
    "            for article in news_articles\n",
    "        )\n",
    "        \n",
    "        # Combine the user's input with the news context\n",
    "        combined_input = f\"User: {input_text}\\n\\nLatest News:\\n{news_context}\\n\\nChatbot:\"\n",
    "\n",
    "        # Encode input text\n",
    "        inputs = tokenizer(combined_input, return_tensors=\"pt\").to(device)\n",
    "\n",
    "        # Generate response\n",
    "        outputs = model.generate(\n",
    "            inputs.input_ids,\n",
    "            attention_mask=inputs.attention_mask,\n",
    "            max_new_tokens=100,\n",
    "            temperature=0.9,  # Adjust temperature for diversity\n",
    "            top_p=0.95,       # Increase top-p for nucleus sampling\n",
    "            top_k=50,         # Increase top-k for more diverse outputs\n",
    "            pad_token_id=tokenizer.eos_token_id,\n",
    "        )\n",
    "        response = tokenizer.decode(outputs[0], skip_special_tokens=True).strip()\n",
    "\n",
    "        # Check if \"Chatbot:\" exists before splitting\n",
    "        if \"Chatbot:\" in response:\n",
    "            response_text = response.split(\"Chatbot:\")[-1].strip()\n",
    "        else:\n",
    "            response_text = response.strip()  # Use the full response if \"Chatbot:\" is missing\n",
    "        \n",
    "        return response_text\n",
    "    except Exception as e:\n",
    "        return f\"Error: {str(e)}\""
   ]
  },
  {
   "cell_type": "code",
   "execution_count": null,
   "metadata": {},
   "outputs": [
    {
     "name": "stderr",
     "output_type": "stream",
     "text": [
      "/Users/ayushsubedi/Desktop/learn/newsbot/env/lib/python3.11/site-packages/transformers/generation/configuration_utils.py:601: UserWarning: `do_sample` is set to `False`. However, `temperature` is set to `0.9` -- this flag is only used in sample-based generation modes. You should set `do_sample=True` or unset `temperature`.\n",
      "  warnings.warn(\n",
      "/Users/ayushsubedi/Desktop/learn/newsbot/env/lib/python3.11/site-packages/transformers/generation/configuration_utils.py:606: UserWarning: `do_sample` is set to `False`. However, `top_p` is set to `0.95` -- this flag is only used in sample-based generation modes. You should set `do_sample=True` or unset `top_p`.\n",
      "  warnings.warn(\n"
     ]
    }
   ],
   "source": [
    "generate_response(\"tell me the news\")"
   ]
  },
  {
   "cell_type": "code",
   "execution_count": null,
   "metadata": {},
   "outputs": [],
   "source": []
  }
 ],
 "metadata": {
  "kernelspec": {
   "display_name": "Python 3 (ipykernel)",
   "language": "python",
   "name": "python3"
  },
  "language_info": {
   "codemirror_mode": {
    "name": "ipython",
    "version": 3
   },
   "file_extension": ".py",
   "mimetype": "text/x-python",
   "name": "python",
   "nbconvert_exporter": "python",
   "pygments_lexer": "ipython3",
   "version": "3.11.2"
  }
 },
 "nbformat": 4,
 "nbformat_minor": 4
}
